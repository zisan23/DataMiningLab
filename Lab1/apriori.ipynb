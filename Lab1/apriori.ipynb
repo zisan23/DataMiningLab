{
 "cells": [
  {
   "cell_type": "code",
   "execution_count": 1,
   "metadata": {},
   "outputs": [],
   "source": [
    "# ! pip install prettytable"
   ]
  },
  {
   "cell_type": "code",
   "execution_count": 2,
   "metadata": {},
   "outputs": [],
   "source": [
    "import time\n",
    "from prettytable import PrettyTable"
   ]
  },
  {
   "cell_type": "code",
   "execution_count": 3,
   "metadata": {},
   "outputs": [],
   "source": [
    "def generate_candidates(itemset, length):\n",
    "    candidates = []\n",
    "    for i in range(len(itemset)):\n",
    "        for j in range(i + 1, len(itemset)):\n",
    "            union_set = set(itemset[i]).union(set(itemset[j]))\n",
    "            if len(union_set) == length:\n",
    "                candidates.append(list(union_set))\n",
    "    return candidates"
   ]
  },
  {
   "cell_type": "code",
   "execution_count": 4,
   "metadata": {},
   "outputs": [],
   "source": [
    "def get_support(transactions, itemset):\n",
    "    count = 0\n",
    "    for transaction in transactions:\n",
    "        if set(itemset).issubset(set(transaction)):\n",
    "            count += 1\n",
    "    return count, count / len(transactions) * 100  # Return both absolute count and percentage"
   ]
  },
  {
   "cell_type": "code",
   "execution_count": 5,
   "metadata": {},
   "outputs": [],
   "source": [
    "def apriori(transactions, min_support_percentage):\n",
    "    start_time = time.time()  # Start timing\n",
    "    items = []\n",
    "    for transaction in transactions:\n",
    "        for item in transaction:\n",
    "            if [item] not in items:\n",
    "                items.append([item])\n",
    "    \n",
    "    k = 1\n",
    "    frequent_itemsets = []\n",
    "    total_frequent_count = 0\n",
    "\n",
    "    while len(items) != 0:\n",
    "        print(f\"\\nLevel {k} Candidate Itemsets:\")\n",
    "        print(f\"Candidates: {items}\")\n",
    "        \n",
    "        support_count = {}\n",
    "        for item in items:\n",
    "            abs_count, support = get_support(transactions, item)\n",
    "            if support >= min_support_percentage:\n",
    "                support_count[tuple(sorted(item))] = (abs_count, support)\n",
    "\n",
    "        if support_count:\n",
    "            frequent_itemsets.append(support_count)\n",
    "            level_count = len(support_count)\n",
    "            total_frequent_count += level_count\n",
    "            \n",
    "            table = PrettyTable()\n",
    "            table.field_names = [\"Itemset\", \"Absolute Support\", \"Support (%)\"]\n",
    "            for itemset, (abs_count, support) in support_count.items():\n",
    "                table.add_row([list(itemset), abs_count, f\"{support:.2f}\"])\n",
    "                \n",
    "            print(f\"\\nLevel {k} Frequent Itemsets:\")\n",
    "            \n",
    "            print(table)\n",
    "        else:\n",
    "            break\n",
    "\n",
    "        items = generate_candidates([list(k) for k in support_count.keys()], k + 1)\n",
    "        k += 1\n",
    "\n",
    "    end_time = time.time()  # End timing\n",
    "    print(\"\\n=== Summary ===\")\n",
    "    print(f\"Total frequent itemsets found: {total_frequent_count}\")\n",
    "    print(f\"Computation time: {end_time - start_time:.2f} seconds\")\n",
    "\n",
    "    return frequent_itemsets"
   ]
  },
  {
   "cell_type": "code",
   "execution_count": 6,
   "metadata": {},
   "outputs": [],
   "source": [
    "transactions = []\n",
    "with open('a.txt', 'r') as file:\n",
    "    for line in file:\n",
    "        transaction = line.strip().split()\n",
    "        transactions.append(transaction)"
   ]
  },
  {
   "cell_type": "code",
   "execution_count": 7,
   "metadata": {},
   "outputs": [
    {
     "name": "stdout",
     "output_type": "stream",
     "text": [
      "Total number of transactions: 9\n"
     ]
    }
   ],
   "source": [
    "print(f\"Total number of transactions: {len(transactions)}\")"
   ]
  },
  {
   "cell_type": "code",
   "execution_count": 8,
   "metadata": {},
   "outputs": [
    {
     "name": "stdout",
     "output_type": "stream",
     "text": [
      "\n",
      "Level 1 Candidate Itemsets:\n",
      "Candidates: [['1'], ['2'], ['5'], ['4'], ['3']]\n",
      "\n",
      "Level 1 Frequent Itemsets:\n",
      "+---------+------------------+-------------+\n",
      "| Itemset | Absolute Support | Support (%) |\n",
      "+---------+------------------+-------------+\n",
      "|  ['1']  |        6         |    66.67    |\n",
      "|  ['2']  |        7         |    77.78    |\n",
      "|  ['5']  |        2         |    22.22    |\n",
      "|  ['4']  |        2         |    22.22    |\n",
      "|  ['3']  |        6         |    66.67    |\n",
      "+---------+------------------+-------------+\n",
      "\n",
      "Level 2 Candidate Itemsets:\n",
      "Candidates: [['1', '2'], ['1', '5'], ['1', '4'], ['1', '3'], ['2', '5'], ['4', '2'], ['2', '3'], ['4', '5'], ['3', '5'], ['4', '3']]\n",
      "\n",
      "Level 2 Frequent Itemsets:\n",
      "+------------+------------------+-------------+\n",
      "|  Itemset   | Absolute Support | Support (%) |\n",
      "+------------+------------------+-------------+\n",
      "| ['1', '2'] |        4         |    44.44    |\n",
      "| ['1', '5'] |        2         |    22.22    |\n",
      "| ['1', '3'] |        4         |    44.44    |\n",
      "| ['2', '5'] |        2         |    22.22    |\n",
      "| ['2', '4'] |        2         |    22.22    |\n",
      "| ['2', '3'] |        4         |    44.44    |\n",
      "+------------+------------------+-------------+\n",
      "\n",
      "Level 3 Candidate Itemsets:\n",
      "Candidates: [['1', '2', '5'], ['1', '2', '3'], ['1', '2', '5'], ['4', '1', '2'], ['1', '2', '3'], ['1', '3', '5'], ['1', '2', '5'], ['1', '2', '3'], ['4', '2', '5'], ['2', '3', '5'], ['4', '2', '3']]\n",
      "\n",
      "Level 3 Frequent Itemsets:\n",
      "+-----------------+------------------+-------------+\n",
      "|     Itemset     | Absolute Support | Support (%) |\n",
      "+-----------------+------------------+-------------+\n",
      "| ['1', '2', '5'] |        2         |    22.22    |\n",
      "| ['1', '2', '3'] |        2         |    22.22    |\n",
      "+-----------------+------------------+-------------+\n",
      "\n",
      "Level 4 Candidate Itemsets:\n",
      "Candidates: [['3', '1', '2', '5']]\n",
      "\n",
      "=== Summary ===\n",
      "Total frequent itemsets found: 13\n",
      "Computation time: 0.03 seconds\n",
      "\n",
      "Frequent 1-itemsets:\n",
      "+---------+------------------+-------------+\n",
      "| Itemset | Absolute Support | Support (%) |\n",
      "+---------+------------------+-------------+\n",
      "|  ['1']  |        6         |    66.67    |\n",
      "|  ['2']  |        7         |    77.78    |\n",
      "|  ['5']  |        2         |    22.22    |\n",
      "|  ['4']  |        2         |    22.22    |\n",
      "|  ['3']  |        6         |    66.67    |\n",
      "+---------+------------------+-------------+\n",
      "\n",
      "Frequent 2-itemsets:\n",
      "+------------+------------------+-------------+\n",
      "|  Itemset   | Absolute Support | Support (%) |\n",
      "+------------+------------------+-------------+\n",
      "| ['1', '2'] |        4         |    44.44    |\n",
      "| ['1', '5'] |        2         |    22.22    |\n",
      "| ['1', '3'] |        4         |    44.44    |\n",
      "| ['2', '5'] |        2         |    22.22    |\n",
      "| ['2', '4'] |        2         |    22.22    |\n",
      "| ['2', '3'] |        4         |    44.44    |\n",
      "+------------+------------------+-------------+\n",
      "\n",
      "Frequent 3-itemsets:\n",
      "+-----------------+------------------+-------------+\n",
      "|     Itemset     | Absolute Support | Support (%) |\n",
      "+-----------------+------------------+-------------+\n",
      "| ['1', '2', '5'] |        2         |    22.22    |\n",
      "| ['1', '2', '3'] |        2         |    22.22    |\n",
      "+-----------------+------------------+-------------+\n"
     ]
    }
   ],
   "source": [
    "min_support = 20 # Ekhane support percentage set korte hbe, realtive ta\n",
    "frequent_sets = apriori(transactions, min_support)\n",
    "\n",
    "for i, itemsets in enumerate(frequent_sets):\n",
    "    print(f\"\\nFrequent {i+1}-itemsets:\")\n",
    "    table = PrettyTable()\n",
    "    table.field_names = [\"Itemset\", \"Absolute Support\", \"Support (%)\"]\n",
    "    for itemset, (abs_count, support) in itemsets.items():\n",
    "        table.add_row([list(itemset), abs_count, f\"{support:.2f}\"])\n",
    "    print(table)"
   ]
  },
  {
   "cell_type": "code",
   "execution_count": null,
   "metadata": {},
   "outputs": [],
   "source": []
  }
 ],
 "metadata": {
  "kernelspec": {
   "display_name": "Python 3",
   "language": "python",
   "name": "python3"
  },
  "language_info": {
   "codemirror_mode": {
    "name": "ipython",
    "version": 3
   },
   "file_extension": ".py",
   "mimetype": "text/x-python",
   "name": "python",
   "nbconvert_exporter": "python",
   "pygments_lexer": "ipython3",
   "version": "3.12.3"
  }
 },
 "nbformat": 4,
 "nbformat_minor": 2
}
