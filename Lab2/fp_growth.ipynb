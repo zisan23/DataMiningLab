{
 "cells": [
  {
   "cell_type": "code",
   "execution_count": 1,
   "id": "00bc509f",
   "metadata": {},
   "outputs": [],
   "source": [
    "import time\n",
    "from collections import defaultdict\n",
    "from prettytable import PrettyTable"
   ]
  },
  {
   "cell_type": "code",
   "execution_count": 2,
   "id": "a5c29602",
   "metadata": {},
   "outputs": [],
   "source": [
    "class FPTreeNode:\n",
    "    def __init__(self, item, count, parent):\n",
    "        self.item = item\n",
    "        self.count = count\n",
    "        self.parent = parent\n",
    "        self.children = {}\n",
    "        self.link = None\n",
    "\n",
    "    def increment(self, count):\n",
    "        self.count += count\n",
    "\n",
    "    def display(self, ind=1):\n",
    "        print('  ' * ind, f'{self.item}: {self.count}')\n",
    "        for child in self.children.values():\n",
    "            child.display(ind + 1)"
   ]
  },
  {
   "cell_type": "code",
   "execution_count": 3,
   "id": "2f01b95e",
   "metadata": {},
   "outputs": [],
   "source": [
    "def build_fp_tree(transactions, min_support):\n",
    "    header_table = defaultdict(int)\n",
    "    for transaction in transactions:\n",
    "        for item in transaction:\n",
    "            header_table[item] += 1\n",
    "    header_table = {k: v for k, v in header_table.items() if v >= min_support}\n",
    "    if not header_table:\n",
    "        return None, None\n",
    "    for key in header_table:\n",
    "        header_table[key] = [header_table[key], None]\n",
    "    root = FPTreeNode(None, 1, None)\n",
    "    for transaction in transactions:\n",
    "        filtered_transaction = [item for item in transaction if item in header_table]\n",
    "        filtered_transaction.sort(key=lambda x: header_table[x][0], reverse=True)\n",
    "        insert_tree(filtered_transaction, root, header_table)\n",
    "    return root, header_table\n",
    "\n",
    "def insert_tree(items, node, header_table):\n",
    "    if items:\n",
    "        first_item = items[0]\n",
    "        if first_item in node.children:\n",
    "            node.children[first_item].increment(1)\n",
    "        else:\n",
    "            new_node = FPTreeNode(first_item, 1, node)\n",
    "            node.children[first_item] = new_node\n",
    "            if header_table[first_item][1] is None:\n",
    "                header_table[first_item][1] = new_node\n",
    "            else:\n",
    "                current = header_table[first_item][1]\n",
    "                while current.link is not None:\n",
    "                    current = current.link\n",
    "                current.link = new_node\n",
    "        insert_tree(items[1:], node.children[first_item], header_table)"
   ]
  },
  {
   "cell_type": "code",
   "execution_count": 4,
   "id": "804c7952",
   "metadata": {},
   "outputs": [],
   "source": [
    "def mine_fp_tree(header_table, min_support, prefix, frequent_itemsets):\n",
    "    sorted_items = sorted(header_table.items(), key=lambda x: x[1][0])\n",
    "    for base_item, (count, node) in sorted_items:\n",
    "        new_prefix = prefix.copy()\n",
    "        new_prefix.add(base_item)\n",
    "        frequent_itemsets.append((new_prefix, count))\n",
    "        conditional_pattern_base = []\n",
    "        while node is not None:\n",
    "            path = []\n",
    "            parent = node.parent\n",
    "            while parent is not None and parent.item is not None:\n",
    "                path.append(parent.item)\n",
    "                parent = parent.parent\n",
    "            path.reverse()\n",
    "            for _ in range(node.count):\n",
    "                conditional_pattern_base.append(path)\n",
    "            node = node.link\n",
    "        conditional_tree, conditional_header = build_fp_tree(conditional_pattern_base, min_support)\n",
    "        if conditional_header is not None:\n",
    "            print(f\"\\nConditional FP-tree for prefix {new_prefix}:\")\n",
    "            conditional_tree.display()\n",
    "            mine_fp_tree(conditional_header, min_support, new_prefix, frequent_itemsets)"
   ]
  },
  {
   "cell_type": "code",
   "execution_count": 5,
   "id": "a25601d2",
   "metadata": {},
   "outputs": [],
   "source": [
    "transactions = []\n",
    "with open('b.txt', 'r') as file:\n",
    "    for line in file:\n",
    "        transactions.append(line.strip().split())"
   ]
  },
  {
   "cell_type": "code",
   "execution_count": 6,
   "id": "9f0c85b2",
   "metadata": {},
   "outputs": [
    {
     "name": "stdout",
     "output_type": "stream",
     "text": [
      "Total number of transactions: 6\n"
     ]
    }
   ],
   "source": [
    "print(f\"Total number of transactions: {len(transactions)}\")"
   ]
  },
  {
   "cell_type": "code",
   "execution_count": 7,
   "id": "17e10c3a",
   "metadata": {},
   "outputs": [
    {
     "name": "stdout",
     "output_type": "stream",
     "text": [
      "Minimum support count: 3\n"
     ]
    }
   ],
   "source": [
    "min_support = 3\n",
    "print(f\"Minimum support count: {min_support}\")\n"
   ]
  },
  {
   "cell_type": "code",
   "execution_count": 8,
   "id": "565d97c0",
   "metadata": {},
   "outputs": [
    {
     "name": "stdout",
     "output_type": "stream",
     "text": [
      "\n",
      "Initial FP-tree:\n",
      "   None: 1\n",
      "     Bread: 5\n",
      "       Milk: 1\n",
      "       Diaper: 4\n",
      "         Beer: 1\n",
      "         Milk: 3\n",
      "           Beer: 1\n",
      "     Diaper: 1\n",
      "       Milk: 1\n",
      "         Beer: 1\n",
      "\n",
      "Conditional FP-tree for prefix {'Beer'}:\n",
      "   None: 1\n",
      "     Diaper: 3\n",
      "\n",
      "Conditional FP-tree for prefix {'Milk'}:\n",
      "   None: 1\n",
      "     Bread: 4\n",
      "       Diaper: 3\n",
      "     Diaper: 1\n",
      "\n",
      "Conditional FP-tree for prefix {'Milk', 'Diaper'}:\n",
      "   None: 1\n",
      "     Bread: 3\n",
      "\n",
      "Conditional FP-tree for prefix {'Diaper'}:\n",
      "   None: 1\n",
      "     Bread: 4\n",
      "\n",
      "Frequent Itemsets:\n",
      "+-----------------------------+---------+\n",
      "|           Itemset           | Support |\n",
      "+-----------------------------+---------+\n",
      "|           ['Beer']          |    3    |\n",
      "|      ['Beer', 'Diaper']     |    3    |\n",
      "|          ['Bread']          |    5    |\n",
      "|           ['Milk']          |    5    |\n",
      "|      ['Milk', 'Bread']      |    4    |\n",
      "|      ['Milk', 'Diaper']     |    4    |\n",
      "| ['Milk', 'Bread', 'Diaper'] |    3    |\n",
      "|          ['Diaper']         |    5    |\n",
      "|     ['Bread', 'Diaper']     |    4    |\n",
      "+-----------------------------+---------+\n",
      "\n",
      "Total frequent itemsets: 9\n",
      "Computation time: 0.00 seconds\n"
     ]
    }
   ],
   "source": [
    "start_time = time.time()\n",
    "root, header_table = build_fp_tree(transactions, min_support)\n",
    "if root is not None:\n",
    "    print(\"\\nInitial FP-tree:\")\n",
    "    root.display()\n",
    "    frequent_itemsets = []\n",
    "    mine_fp_tree(header_table, min_support, set(), frequent_itemsets)\n",
    "    end_time = time.time()\n",
    "    print(\"\\nFrequent Itemsets:\")\n",
    "    table = PrettyTable([\"Itemset\", \"Support\"])\n",
    "    for itemset, support in frequent_itemsets:\n",
    "        table.add_row([list(itemset), support])\n",
    "    print(table)\n",
    "    print(f\"\\nTotal frequent itemsets: {len(frequent_itemsets)}\")\n",
    "    print(f\"Computation time: {end_time - start_time:.2f} seconds\")\n",
    "else:\n",
    "    print(\"No frequent itemsets found.\")"
   ]
  },
  {
   "cell_type": "code",
   "execution_count": null,
   "id": "b36a1649",
   "metadata": {},
   "outputs": [],
   "source": []
  }
 ],
 "metadata": {
  "kernelspec": {
   "display_name": "Python 3",
   "language": "python",
   "name": "python3"
  },
  "language_info": {
   "codemirror_mode": {
    "name": "ipython",
    "version": 3
   },
   "file_extension": ".py",
   "mimetype": "text/x-python",
   "name": "python",
   "nbconvert_exporter": "python",
   "pygments_lexer": "ipython3",
   "version": "3.12.3"
  }
 },
 "nbformat": 4,
 "nbformat_minor": 5
}
